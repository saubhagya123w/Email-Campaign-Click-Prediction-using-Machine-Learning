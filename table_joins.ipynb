{
 "cells": [
  {
   "cell_type": "code",
   "execution_count": 1,
   "id": "ad7d2c98",
   "metadata": {},
   "outputs": [],
   "source": [
    "import pandas as pd"
   ]
  },
  {
   "cell_type": "code",
   "execution_count": 4,
   "id": "2b412693",
   "metadata": {},
   "outputs": [],
   "source": [
    "df4 = pd.read_csv('email_table.csv')           # email info\n",
    "df5 = pd.read_csv('email_opened_table.csv')     # opened emails\n",
    "df6 = pd.read_csv('link_clicked_table.csv')    # clicked emails\n"
   ]
  },
  {
   "cell_type": "markdown",
   "id": "966a5d86",
   "metadata": {},
   "source": [
    "Step 1: Merge df4 with df5 (opened data)\n"
   ]
  },
  {
   "cell_type": "code",
   "execution_count": 5,
   "id": "5b7d2ec9",
   "metadata": {},
   "outputs": [],
   "source": [
    "merged_df = df4.merge(df5, on='email_id', how='left')\n"
   ]
  },
  {
   "cell_type": "markdown",
   "id": "c7e0fe9b",
   "metadata": {},
   "source": [
    "Step 2: Merge the result with df6 (clicked data)"
   ]
  },
  {
   "cell_type": "code",
   "execution_count": 6,
   "id": "cf663f1a",
   "metadata": {},
   "outputs": [],
   "source": [
    "merged_df = merged_df.merge(df6, on='email_id', how='left', suffixes=('', '_clicked'))\n"
   ]
  },
  {
   "cell_type": "markdown",
   "id": "6b80ce1b",
   "metadata": {},
   "source": [
    " Step 3: Create the clicked column"
   ]
  },
  {
   "cell_type": "code",
   "execution_count": 8,
   "id": "ae436262",
   "metadata": {},
   "outputs": [],
   "source": [
    "merged_df['clicked'] = merged_df['email_id'].isin(df6['email_id']).astype(int)\n"
   ]
  },
  {
   "cell_type": "markdown",
   "id": "5ab8864a",
   "metadata": {},
   "source": [
    "Similarly, for opened:"
   ]
  },
  {
   "cell_type": "code",
   "execution_count": 9,
   "id": "23dde68f",
   "metadata": {},
   "outputs": [],
   "source": [
    "merged_df['opened'] = merged_df['email_id'].isin(df5['email_id']).astype(int)\n"
   ]
  },
  {
   "cell_type": "markdown",
   "id": "ec762928",
   "metadata": {},
   "source": [
    "# Save the merged DataFrame to a new CSV file"
   ]
  },
  {
   "cell_type": "code",
   "execution_count": 10,
   "id": "99795cab",
   "metadata": {},
   "outputs": [],
   "source": [
    "\n",
    "merged_df.to_csv('merged_email_data.csv', index=False)\n"
   ]
  },
  {
   "cell_type": "markdown",
   "id": "40cba20a",
   "metadata": {},
   "source": [
    "#feature engineering"
   ]
  },
  {
   "cell_type": "code",
   "execution_count": 14,
   "id": "18d1e163",
   "metadata": {},
   "outputs": [],
   "source": [
    "df7 = pd.read_csv('merged_email_data.csv')"
   ]
  },
  {
   "cell_type": "code",
   "execution_count": 15,
   "id": "0f28624c",
   "metadata": {},
   "outputs": [
    {
     "name": "stdout",
     "output_type": "stream",
     "text": [
      "Encoding complete. Encoded data saved to 'encoded_email_data.csv'\n"
     ]
    }
   ],
   "source": [
    "from sklearn.preprocessing import LabelEncoder\n",
    "\n",
    "label_encoder = LabelEncoder()\n",
    "\n",
    "# Apply to each categorical column\n",
    "merged_df['email_text'] = label_encoder.fit_transform(merged_df['email_text'])\n",
    "merged_df['email_version'] = label_encoder.fit_transform(merged_df['email_version'])\n",
    "merged_df['user_country'] = label_encoder.fit_transform(merged_df['user_country'])\n",
    "merged_df['weekday'] = label_encoder.fit_transform(merged_df['weekday'])\n",
    "# Optional: Save the encoded DataFrame to a new CSV\n",
    "df7.to_csv('encoded_email_data.csv', index=False)\n",
    "\n",
    "print(\"Encoding complete. Encoded data saved to 'encoded_email_data.csv'\")"
   ]
  },
  {
   "cell_type": "markdown",
   "id": "3d47eadb",
   "metadata": {},
   "source": [
    "Add Time-Based Features from 'hour' Column"
   ]
  },
  {
   "cell_type": "code",
   "execution_count": 16,
   "id": "c1fb08d0",
   "metadata": {},
   "outputs": [
    {
     "name": "stdout",
     "output_type": "stream",
     "text": [
      "Time-based features added! Saved to 'email_data_with_time_features.csv'\n"
     ]
    }
   ],
   "source": [
    "import pandas as pd\n",
    "\n",
    "# Load the encoded data\n",
    "df7 = pd.read_csv('encoded_email_data.csv')\n",
    "\n",
    "# Create time-based features\n",
    "df7['is_morning'] = df7['hour'].apply(lambda x: 1 if 6 <= x < 12 else 0)\n",
    "df7['is_afternoon'] = df7['hour'].apply(lambda x: 1 if 12 <= x < 18 else 0)\n",
    "df7['is_evening'] = df7['hour'].apply(lambda x: 1 if 18 <= x < 22 else 0)\n",
    "df7['is_night'] = df7['hour'].apply(lambda x: 1 if (x >= 22 or x < 6) else 0)\n",
    "\n",
    "# Optional: Save to a new CSV\n",
    "df7.to_csv('email_data_with_time_features.csv', index=False)\n",
    "\n",
    "print(\"Time-based features added! Saved to 'email_data_with_time_features.csv'\")\n"
   ]
  },
  {
   "cell_type": "code",
   "execution_count": 17,
   "id": "686e3644",
   "metadata": {},
   "outputs": [
    {
     "name": "stdout",
     "output_type": "stream",
     "text": [
      "✅ 'user_past_purchases' scaled using StandardScaler and saved as 'email_data_scaled_standard.csv'\n"
     ]
    }
   ],
   "source": [
    "# ----------------------------------------\n",
    "# 📏 Scale Numerical Features using StandardScaler\n",
    "# ----------------------------------------\n",
    "\n",
    "import pandas as pd\n",
    "from sklearn.preprocessing import StandardScaler\n",
    "\n",
    "# Load the data with time features\n",
    "df7 = pd.read_csv('email_data_with_time_features.csv')\n",
    "\n",
    "# Initialize the scaler\n",
    "scaler = StandardScaler()\n",
    "\n",
    "# Fit and transform the user_past_purchases column\n",
    "df7['user_past_purchases_scaled'] = scaler.fit_transform(df7[['user_past_purchases']])\n",
    "\n",
    "# Optional: Save to a new CSV\n",
    "df7.to_csv('email_data_scaled_standard.csv', index=False)\n",
    "\n",
    "print(\"✅ 'user_past_purchases' scaled using StandardScaler and saved as 'email_data_scaled_standard.csv'\")\n"
   ]
  },
  {
   "cell_type": "code",
   "execution_count": null,
   "id": "83e36c5d",
   "metadata": {},
   "outputs": [],
   "source": []
  }
 ],
 "metadata": {
  "kernelspec": {
   "display_name": "Python 3",
   "language": "python",
   "name": "python3"
  },
  "language_info": {
   "codemirror_mode": {
    "name": "ipython",
    "version": 3
   },
   "file_extension": ".py",
   "mimetype": "text/x-python",
   "name": "python",
   "nbconvert_exporter": "python",
   "pygments_lexer": "ipython3",
   "version": "3.10.0"
  }
 },
 "nbformat": 4,
 "nbformat_minor": 5
}
