{
 "cells": [
  {
   "cell_type": "code",
   "execution_count": 1,
   "id": "f68fe50f",
   "metadata": {},
   "outputs": [
    {
     "name": "stdout",
     "output_type": "stream",
     "text": [
      "✅ Best Parameters: {'knn__n_neighbors': 9, 'knn__weights': 'uniform'}\n",
      "✅ Accuracy: 0.97735\n",
      "\n",
      "📊 Classification Report:\n",
      "               precision    recall  f1-score   support\n",
      "\n",
      "           0       0.98      1.00      0.99     19547\n",
      "           1       0.00      0.00      0.00       453\n",
      "\n",
      "    accuracy                           0.98     20000\n",
      "   macro avg       0.49      0.50      0.49     20000\n",
      "weighted avg       0.96      0.98      0.97     20000\n",
      "\n"
     ]
    },
    {
     "name": "stderr",
     "output_type": "stream",
     "text": [
      "c:\\Users\\saubh\\AppData\\Local\\Programs\\Python\\Python310\\lib\\site-packages\\sklearn\\metrics\\_classification.py:1531: UndefinedMetricWarning: Precision is ill-defined and being set to 0.0 in labels with no predicted samples. Use `zero_division` parameter to control this behavior.\n",
      "  _warn_prf(average, modifier, f\"{metric.capitalize()} is\", len(result))\n",
      "c:\\Users\\saubh\\AppData\\Local\\Programs\\Python\\Python310\\lib\\site-packages\\sklearn\\metrics\\_classification.py:1531: UndefinedMetricWarning: Precision is ill-defined and being set to 0.0 in labels with no predicted samples. Use `zero_division` parameter to control this behavior.\n",
      "  _warn_prf(average, modifier, f\"{metric.capitalize()} is\", len(result))\n",
      "c:\\Users\\saubh\\AppData\\Local\\Programs\\Python\\Python310\\lib\\site-packages\\sklearn\\metrics\\_classification.py:1531: UndefinedMetricWarning: Precision is ill-defined and being set to 0.0 in labels with no predicted samples. Use `zero_division` parameter to control this behavior.\n",
      "  _warn_prf(average, modifier, f\"{metric.capitalize()} is\", len(result))\n"
     ]
    }
   ],
   "source": [
    "import pandas as pd\n",
    "from sklearn.model_selection import train_test_split, GridSearchCV\n",
    "from sklearn.pipeline import Pipeline\n",
    "from sklearn.compose import ColumnTransformer\n",
    "from sklearn.preprocessing import StandardScaler, OneHotEncoder\n",
    "from sklearn.neighbors import KNeighborsClassifier\n",
    "from sklearn.metrics import classification_report, accuracy_score\n",
    "\n",
    "# Load dataset\n",
    "df = pd.read_csv(\"email_data_scaled_standard.csv\")\n",
    "\n",
    "# Define target and features\n",
    "target = \"clicked\"\n",
    "drop_cols = [\"clicked\", \"opened\", \"email_id\", \"user_past_purchases\"]\n",
    "X = df.drop(columns=drop_cols)\n",
    "y = df[target]\n",
    "\n",
    "# Feature groups\n",
    "numeric_features = [\"hour\", \"user_past_purchases_scaled\"]\n",
    "categorical_features = [\"email_text\", \"email_version\", \"weekday\", \"user_country\"]\n",
    "# Time of day features already in binary format\n",
    "passthrough_features = [\"is_morning\", \"is_afternoon\", \"is_evening\", \"is_night\"]\n",
    "\n",
    "# Column transformer for preprocessing\n",
    "preprocessor = ColumnTransformer(\n",
    "    transformers=[\n",
    "        (\"num\", StandardScaler(), numeric_features),\n",
    "        (\"cat\", OneHotEncoder(drop=\"first\", handle_unknown=\"ignore\"), categorical_features),\n",
    "    ],\n",
    "    remainder=\"passthrough\"  # Keeps time features as-is\n",
    ")\n",
    "\n",
    "# Pipeline with KNN\n",
    "pipeline = Pipeline([\n",
    "    (\"preprocessor\", preprocessor),\n",
    "    (\"knn\", KNeighborsClassifier())\n",
    "])\n",
    "\n",
    "# Hyperparameter grid for optimization\n",
    "param_grid = {\n",
    "    \"knn__n_neighbors\": [3, 5, 7, 9],\n",
    "    \"knn__weights\": [\"uniform\", \"distance\"]\n",
    "}\n",
    "\n",
    "# Split data\n",
    "X_train, X_test, y_train, y_test = train_test_split(X, y, test_size=0.2, random_state=42)\n",
    "\n",
    "# Grid search with 5-fold CV\n",
    "grid_search = GridSearchCV(pipeline, param_grid, cv=5, scoring=\"accuracy\", n_jobs=-1)\n",
    "grid_search.fit(X_train, y_train)\n",
    "\n",
    "# Evaluate best model\n",
    "best_model = grid_search.best_estimator_\n",
    "y_pred = best_model.predict(X_test)\n",
    "\n",
    "# Results\n",
    "print(\"✅ Best Parameters:\", grid_search.best_params_)\n",
    "print(\"✅ Accuracy:\", accuracy_score(y_test, y_pred))\n",
    "print(\"\\n📊 Classification Report:\\n\", classification_report(y_test, y_pred))\n"
   ]
  },
  {
   "cell_type": "code",
   "execution_count": 5,
   "id": "644c3d40",
   "metadata": {},
   "outputs": [],
   "source": [
    "def predict_user_click(email_text, email_version, hour, weekday, user_country,\n",
    "                       user_past_purchases_scaled, is_morning, is_afternoon, is_evening, is_night):\n",
    "    \"\"\"\n",
    "    Predicts whether a user will click the email link based on input features.\n",
    "    \"\"\"\n",
    "    # Create input DataFrame\n",
    "    user_input = pd.DataFrame([{\n",
    "        \"email_text\": email_text,\n",
    "        \"email_version\": email_version,\n",
    "        \"hour\": hour,\n",
    "        \"weekday\": weekday,\n",
    "        \"user_country\": user_country,\n",
    "        \"user_past_purchases_scaled\": user_past_purchases_scaled,\n",
    "        \"is_morning\": is_morning,\n",
    "        \"is_afternoon\": is_afternoon,\n",
    "        \"is_evening\": is_evening,\n",
    "        \"is_night\": is_night\n",
    "    }])\n",
    "    \n",
    "    # Predict using the trained model\n",
    "    prediction = best_model.predict(user_input)[0]\n",
    "    \n",
    "    # Output result\n",
    "    return \"✅ Click\" if prediction == 1 else \"❌ No Click\"\n"
   ]
  },
  {
   "cell_type": "code",
   "execution_count": 15,
   "id": "f6423308",
   "metadata": {},
   "outputs": [
    {
     "data": {
      "text/plain": [
       "'❌ No Click'"
      ]
     },
     "execution_count": 15,
     "metadata": {},
     "output_type": "execute_result"
    }
   ],
   "source": [
    "predict_user_click(\n",
    "    email_text=\"long_email\",\n",
    "    email_version=\"personalized\",\n",
    "    hour=23,\n",
    "    weekday=\"Tuesday\",\n",
    "    user_country=\"US\",\n",
    "    user_past_purchases_scaled=0.7,\n",
    "    is_morning=1,\n",
    "    is_afternoon=0,\n",
    "    is_evening=0,\n",
    "    is_night=0\n",
    ")\n"
   ]
  },
  {
   "cell_type": "code",
   "execution_count": 24,
   "id": "755a3c6d",
   "metadata": {},
   "outputs": [
    {
     "data": {
      "text/plain": [
       "'❌ No Click'"
      ]
     },
     "execution_count": 24,
     "metadata": {},
     "output_type": "execute_result"
    }
   ],
   "source": [
    "predict_user_click(\n",
    "    email_text=\"short_email\",              # better engagement from short content\n",
    "    email_version=\"personalized\",         # personalized worked well\n",
    "    hour=9,                                # strong morning performance\n",
    "    weekday=\"Tuesday\",                    # acceptable day\n",
    "    user_country=\"US\",                    # high engagement segment\n",
    "    user_past_purchases_scaled=0.8,       # strong past purchase history\n",
    "    is_morning=1,\n",
    "    is_afternoon=0,\n",
    "    is_evening=0,\n",
    "    is_night=0\n",
    ")\n"
   ]
  },
  {
   "cell_type": "code",
   "execution_count": 25,
   "id": "6426d1af",
   "metadata": {},
   "outputs": [
    {
     "data": {
      "text/plain": [
       "'❌ No Click'"
      ]
     },
     "execution_count": 25,
     "metadata": {},
     "output_type": "execute_result"
    }
   ],
   "source": [
    "predict_user_click(\n",
    "    email_text=\"long_email\",              # longer content performs better here\n",
    "    email_version=\"personalized\",         # personalized still optimal\n",
    "    hour=10,                               # best hour in the morning range\n",
    "    weekday=\"Tuesday\",                    # strong midweek performance\n",
    "    user_country=\"US\",                    # high engagement segment\n",
    "    user_past_purchases_scaled=0.8,       # strong past purchase history\n",
    "    is_morning=1,\n",
    "    is_afternoon=0,\n",
    "    is_evening=0,\n",
    "    is_night=0\n",
    ")\n"
   ]
  },
  {
   "cell_type": "code",
   "execution_count": null,
   "id": "d68ed02f",
   "metadata": {},
   "outputs": [],
   "source": []
  }
 ],
 "metadata": {
  "kernelspec": {
   "display_name": "Python 3",
   "language": "python",
   "name": "python3"
  },
  "language_info": {
   "codemirror_mode": {
    "name": "ipython",
    "version": 3
   },
   "file_extension": ".py",
   "mimetype": "text/x-python",
   "name": "python",
   "nbconvert_exporter": "python",
   "pygments_lexer": "ipython3",
   "version": "3.10.0"
  }
 },
 "nbformat": 4,
 "nbformat_minor": 5
}
