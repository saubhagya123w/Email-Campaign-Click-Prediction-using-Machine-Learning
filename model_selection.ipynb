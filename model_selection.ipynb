{
 "cells": [
  {
   "cell_type": "code",
   "execution_count": 1,
   "id": "ff7ed109",
   "metadata": {},
   "outputs": [
    {
     "name": "stdout",
     "output_type": "stream",
     "text": [
      "✅ Data split complete!\n",
      "Training samples: 80000\n",
      "Testing samples: 20000\n"
     ]
    }
   ],
   "source": [
    "# ----------------------------------------\n",
    "# 🧪 Split the Data into Training and Testing Sets (80% - 20%)\n",
    "# ----------------------------------------\n",
    "\n",
    "import pandas as pd\n",
    "from sklearn.model_selection import train_test_split\n",
    "\n",
    "# Load the scaled dataset\n",
    "df7 = pd.read_csv('email_data_scaled_standard.csv')  # or 'email_data_scaled_minmax.csv'\n",
    "\n",
    "# Select features (X) and target (y)\n",
    "X = df7.drop(columns=['clicked'])  # all features\n",
    "y = df7['clicked']                 # target variable\n",
    "\n",
    "# Perform the train-test split\n",
    "X_train, X_test, y_train, y_test = train_test_split(\n",
    "    X, y, test_size=0.2, random_state=42, stratify=y\n",
    ")\n",
    "\n",
    "print(\"✅ Data split complete!\")\n",
    "print(f\"Training samples: {X_train.shape[0]}\")\n",
    "print(f\"Testing samples: {X_test.shape[0]}\")\n"
   ]
  },
  {
   "cell_type": "code",
   "execution_count": 2,
   "id": "3f088382",
   "metadata": {},
   "outputs": [
    {
     "name": "stderr",
     "output_type": "stream",
     "text": [
      "c:\\Users\\saubh\\AppData\\Local\\Programs\\Python\\Python310\\lib\\site-packages\\sklearn\\linear_model\\_logistic.py:469: ConvergenceWarning: lbfgs failed to converge (status=1):\n",
      "STOP: TOTAL NO. of ITERATIONS REACHED LIMIT.\n",
      "\n",
      "Increase the number of iterations (max_iter) or scale the data as shown in:\n",
      "    https://scikit-learn.org/stable/modules/preprocessing.html\n",
      "Please also refer to the documentation for alternative solver options:\n",
      "    https://scikit-learn.org/stable/modules/linear_model.html#logistic-regression\n",
      "  n_iter_i = _check_optimize_result(\n"
     ]
    },
    {
     "name": "stdout",
     "output_type": "stream",
     "text": [
      "Logistic Regression Accuracy: 0.9780\n",
      "Random Forest Accuracy: 0.9758\n",
      "KNN Accuracy: 0.9788\n",
      "SVM Accuracy: 0.9788\n",
      "XGBoost Accuracy: 0.9782\n"
     ]
    }
   ],
   "source": [
    "import pandas as pd\n",
    "from sklearn.linear_model import LogisticRegression\n",
    "from sklearn.ensemble import RandomForestClassifier\n",
    "from sklearn.neighbors import KNeighborsClassifier\n",
    "from sklearn.svm import SVC\n",
    "from sklearn.metrics import accuracy_score\n",
    "from sklearn.model_selection import train_test_split\n",
    "import xgboost as xgb\n",
    "from sklearn.preprocessing import LabelEncoder, OneHotEncoder\n",
    "from sklearn.compose import ColumnTransformer\n",
    "from sklearn.pipeline import Pipeline\n",
    "\n",
    "# Load your processed dataset\n",
    "df = pd.read_csv('email_data_scaled_standard.csv')  # or scaled_minmax.csv\n",
    "\n",
    "# Features and target\n",
    "X = df.drop(columns=['clicked'])\n",
    "y = df['clicked']\n",
    "\n",
    "# Train-test split\n",
    "X_train, X_test, y_train, y_test = train_test_split(\n",
    "    X, y, test_size=0.2, random_state=42, stratify=y\n",
    ")\n",
    "\n",
    "# Identify categorical columns\n",
    "categorical_columns = ['email_text', 'email_version', 'user_country', 'weekday']\n",
    "\n",
    "# Apply encoding on categorical columns\n",
    "# For simplicity, use LabelEncoder for ordinal features (like email_text) and OneHotEncoder for nominal features (like user_country)\n",
    "preprocessor = ColumnTransformer(\n",
    "    transformers=[\n",
    "        ('cat', OneHotEncoder(), categorical_columns)  # One-Hot Encode categorical columns\n",
    "    ], \n",
    "    remainder='passthrough'  # Keep other features as they are\n",
    ")\n",
    "\n",
    "# Define models including XGBoost\n",
    "models = {\n",
    "    'Logistic Regression': LogisticRegression(),\n",
    "    'Random Forest': RandomForestClassifier(),\n",
    "    'KNN': KNeighborsClassifier(),\n",
    "    'SVM': SVC(),\n",
    "    'XGBoost': xgb.XGBClassifier(eval_metric='mlogloss')  # XGBoost model\n",
    "}\n",
    "\n",
    "# Train and evaluate each model using a pipeline\n",
    "for name, model in models.items():\n",
    "    # Create a pipeline that first applies preprocessing then trains the model\n",
    "    pipeline = Pipeline(steps=[('preprocessor', preprocessor), ('classifier', model)])\n",
    "    \n",
    "    # Train the model\n",
    "    pipeline.fit(X_train, y_train)\n",
    "    \n",
    "    # Predict on test data\n",
    "    y_pred = pipeline.predict(X_test)\n",
    "    \n",
    "    # Evaluate performance\n",
    "    acc = accuracy_score(y_test, y_pred)\n",
    "    print(f\"{name} Accuracy: {acc:.4f}\")\n",
    "\n"
   ]
  },
  {
   "cell_type": "markdown",
   "id": "83155e7f",
   "metadata": {},
   "source": [
    "##Selected model is KNN"
   ]
  },
  {
   "cell_type": "markdown",
   "id": "bcb55914",
   "metadata": {},
   "source": []
  }
 ],
 "metadata": {
  "kernelspec": {
   "display_name": "Python 3",
   "language": "python",
   "name": "python3"
  },
  "language_info": {
   "codemirror_mode": {
    "name": "ipython",
    "version": 3
   },
   "file_extension": ".py",
   "mimetype": "text/x-python",
   "name": "python",
   "nbconvert_exporter": "python",
   "pygments_lexer": "ipython3",
   "version": "3.10.0"
  }
 },
 "nbformat": 4,
 "nbformat_minor": 5
}
